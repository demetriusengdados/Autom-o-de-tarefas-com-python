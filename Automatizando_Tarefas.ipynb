{
  "nbformat": 4,
  "nbformat_minor": 0,
  "metadata": {
    "colab": {
      "name": "Automatizando Tarefas.ipynb",
      "provenance": [],
      "collapsed_sections": []
    },
    "kernelspec": {
      "name": "python3",
      "display_name": "Python 3"
    },
    "language_info": {
      "name": "python"
    }
  },
  "cells": [
    {
      "cell_type": "code",
      "execution_count": null,
      "metadata": {
        "id": "7Knc9qTD8dUT"
      },
      "outputs": [],
      "source": [
        "#Primeiro Passo\n",
        "\n",
        "import warnings\n",
        "import pandas as pd\n",
        "import os \n",
        "import seaborn as sns\n",
        "import matplotlib.pyplot as plt\n",
        "from pandas.core.common import SettingWithCopyWarning"
      ]
    },
    {
      "cell_type": "code",
      "source": [
        "#Primeiro Passo\n",
        "\n",
        "pd.options.display.max_rows = 999\n",
        "pd.options.display.max_columns = 999\n",
        "warnings.simplefilter(action='ignore', category=SettingWithCopyWarning)"
      ],
      "metadata": {
        "id": "ArTzO6hB9a1l"
      },
      "execution_count": null,
      "outputs": []
    },
    {
      "cell_type": "code",
      "source": [
        "#Segundo passo \n",
        "\n",
        "diretorioCombustivel = 'C:\\\\Temp\\\\Combustiveis\\\\gasolina_Etanol_Diesel_GNv\\\\'\n",
        "\n",
        "dfCombustivel = pd.Dataframe()\n",
        "\n",
        "for arquivoCombustivel in os.listdir(diretorioCombustivel):\n",
        "    pathCombustivel = diretorioCOmbustivel + arquivoCombustivel\n",
        "    print(pathCombustivel)\n",
        "\n",
        "    df = pd.read.csv(pathCombustivel\n",
        "                     , sep =';'\n",
        "                     , header = 0\n",
        "                     , usecols = [0,1,2,3,4,5,6,7,8,9,10,11,12,13,14,15]\n",
        "                     , names = ['Região', 'UF', 'NomMunicipio', 'NomRevenda', 'NumCNPJRevenda', 'NomLogradouro', 'NrEndereço',\n",
        "                                'NomComplemento', 'NomBairro', 'NumCep', 'DscProduto','DtColeta', 'VlrVenda', 'VlrCompleto',\n",
        "                                'UnMedida', 'DscBandeira'\n",
        "                                ]\n",
        "                     , dtype = {'Região':'str'\n",
        "                     , 'UF': 'str'\n",
        "                     , 'NomMunicipio': 'str'\n",
        "                     , 'NomRevenda': 'str'\n",
        "                     , 'NumCNPJRevenda': 'str'\n",
        "                     , 'NomLogradouro': 'str'\n",
        "                     , 'NrEndereço': 'str'\n",
        "                     , 'NomComplemento': 'str'\n",
        "                     , 'NomBairro': 'str', \n",
        "                     , 'NumCEP': 'str'\n",
        "                     , 'DscProduto': 'str'\n",
        "                     , 'DtColeta': 'str'\n",
        "                     , 'VlrVenda': 'str'\n",
        "                     , 'VlrCompleto': 'str'\n",
        "                     , 'UnMedida': 'str'\n",
        "                     , 'DscBandeira': 'str'\n",
        "                     }\n",
        "                     , parse_dates = [11]\n",
        "                     , dayfirst = True\n",
        "                     , engine = 'python')\n",
        "    \n",
        "    dfCombustivel = dfCombustivel.append(df)"
      ],
      "metadata": {
        "id": "f8d9lUox91BK"
      },
      "execution_count": null,
      "outputs": []
    },
    {
      "cell_type": "code",
      "source": [
        "#Terceiro Passo \n",
        "\n",
        "#Tratamento de dados nulos \n",
        "dfCombustivel['NomComplemento'].fillna('NI', inplace=True)\n",
        "dfCombustivel['NomLogradouro'].fillna('NI',inplace=True)\n",
        "dfCombustivel['NomBairro'].fillna('NI', inplace=True)\n",
        "dfCombustivel['VlrCompra'].fillna('NI', inplace=True)\n",
        "\n",
        "#Criação de Colunas de tempo - Ano, Mes, Anomes\n",
        "dfCombustivel['Ano'] = dfCombustivel['DtColeta'].dt.strftime('%Y')\n",
        "dfCombustivel['Mes'] = dfCombustivel['DtColeta'].dt.strftime('%m')\n",
        "dfCombustivel['AnoMes'] = dfCombustivel['DtColeta'].dt.strftime('%Y%m')\n",
        "\n",
        "#Criação de coluna endereço completo\n",
        "dfCombustivel['NomEnderecoCompleto'] = dfCombustivel['Logradouro'] \\\n",
        "                                        + ', NR: ' \\\n",
        "                                        + dfCombustivel['NrEndereço'] \\\n",
        "                                        + ', Complemento: ' \\\n",
        "                                        + dfCombustivel['NomComplemento'] \\\n",
        "                                        + ', Bairro: ' \\\n",
        "                                        + dfCombustivel['NomBairro']\n",
        "\n",
        "dfCombustivel['NomEnderecoCompleto'].fillna('NI', inplace=True)\n",
        "\n",
        "#Conversão de tipo de dados\n",
        "dfCombustivel['VlrCompra'] = dfCombustivel['VlrCompra'].str.replace(',','.').astype(float)\n",
        "dfCombustivel['VlrVenda'] = dfCombustivel['VlrVenda'].str.replace(',','.').astype(float)"
      ],
      "metadata": {
        "id": "d2css-f0zZ8z"
      },
      "execution_count": null,
      "outputs": []
    },
    {
      "cell_type": "code",
      "source": [
        "#Quarto passo\n",
        "\n",
        "dfCombustivel.info()"
      ],
      "metadata": {
        "id": "Vro1SIsk4Kc7"
      },
      "execution_count": null,
      "outputs": []
    },
    {
      "cell_type": "code",
      "source": [
        "#Quinto passo \n",
        "\n",
        "#Aplicação de filtro para retornar apenas os dados que o cliente atua\n",
        "\n",
        "resultEstadosAtuantes = dfCombustivel[((dfCombustivel['UF']=='CE') & (dfCombustivel['NomMunicipio']=='JUAZEIRO DO NORTE')) |\n",
        "                                      ((dfCombustivel['UF']=='MA') & (dfCombustivel['NomMunicipio']=='IMPERATRIZ')) |\n",
        "                                      ((dfcombustivel['UF']=='RJ') & (dfCombustivel['NomMunicipio']=='SAO GONCALO')) |\n",
        "                                      ((dfCombsutivel['UF']=='SP') & (dfCombustivel['NomMunicipio']=='BARUERI'))\n",
        "                                    ].groupby(['Regiao'\n",
        "                                              , 'UF'\n",
        "                                              , 'NomMunicipio'\n",
        "                                              , 'Nombairro'\n",
        "                                              , 'NomRevenda'\n",
        "                                              , 'NomEnderecoCompleto'\n",
        "                                              , 'DscProduto'\n",
        "                                              , 'AnoMes'\n",
        "                                              , 'Ano'\n",
        "                                              , 'Mes'\n",
        "                                              ], as_index=False).agg(VlrMedio=('VlrVenda', 'mean'))"
      ],
      "metadata": {
        "id": "cwLAFrSC4UNC"
      },
      "execution_count": null,
      "outputs": []
    },
    {
      "cell_type": "code",
      "source": [
        "#sexto passo \n",
        "\n",
        "#Transformação de linhas em colunas - colunas - anomes\n",
        "#criando uma coluna para cada anomes\n",
        "\n",
        "resultRelatorioFinal = resultEstadosAtuantes.pivot(index=['Regiao'\n",
        "                                                        , 'UF'\n",
        "                                                        , 'NomMunicipio'\n",
        "                                                        , 'NomBairro'\n",
        "                                                        , 'NomRevenda'\n",
        "                                                        , 'NomEnderecoCompleto'\n",
        "                                                        , 'DscProduto'\n",
        "                                                        ], columns='AnoMes', values='VlrMedio').fillna(0).reset_index()\n",
        "resultRelatorioFinal"
      ],
      "metadata": {
        "id": "JcuFfBH768My"
      },
      "execution_count": null,
      "outputs": []
    },
    {
      "cell_type": "code",
      "source": [
        "#Sétimo passo\n",
        "#Geração de um arquivo pra cada filial \n",
        "\n",
        "for lista_uf in resultRelatorioFinal['UF'].unique():\n",
        "    print(\"Arquivo Estado do \" + lista_uf + 'gerado com sucesso!')\n",
        "\n",
        "    resultRelatorioFinal[resultRelatorioFInal['UF']==lista_uf].to_csv('C:\\\\Arquivo\\\\lista_{0}.csv'\n",
        "                                                                        .format(lista_uf),sep= ';', index=False)"
      ],
      "metadata": {
        "id": "U4ezPj3vBAd4"
      },
      "execution_count": null,
      "outputs": []
    },
    {
      "cell_type": "code",
      "source": [
        "#Oitavo Passo\n",
        "#Representando a variação mensão do municipio em gráfico\n",
        "\n",
        "reportGrafico = dfCombustivel[((dfCombustivel['UF']=='CE') & (dfCombustivel['NomMunicipio']=='JUAZEIRO DO NORTE'))\n",
        "                                      ].groupby(['Regiao'\n",
        "                                               , 'UF'\n",
        "                                               , 'NomDomicilio'\n",
        "                                               , 'DscProduto'\n",
        "                                               , 'AnoMes'\n",
        "                                               , 'Ano'\n",
        "                                               , 'Mes'\n",
        "                                               ], as_index=False).agg(VlrMedio=('VlrVenda', 'mean')).sort_values(by='AnoMes')"
      ],
      "metadata": {
        "id": "mZy9OjurC_RJ"
      },
      "execution_count": null,
      "outputs": []
    },
    {
      "cell_type": "code",
      "source": [
        "#Nono passo\n",
        "\n",
        "import smtplib\n",
        "from email.mine.multipart import MIMEMultipart\n",
        "from email.mime.text import MIMEText\n",
        "from email.mime.base import MIMEBase\n",
        "from email import encoders\n",
        "\n",
        "for lista_uf in resultRelatorioFinal['UF'].unique():\n",
        "    print('Arquivo Estado do ' + lista_uf + ' gerado com sucesso!')\n",
        "\n",
        "    resultRelatorioFinal[resultRelatorioFinal['UF']==lista_uf].to_csv('C:\\\\Arquivo\\\\lista_{0}.csv'\n",
        "                                                                        .format(lista_uf),sep=';', index=False)\n",
        "    \n",
        "    fromaddr = 'seuemail@seuemail.com.br'\n",
        "    toaddr   = 'destinatario@email.com.br'\n",
        "\n",
        "    msg = MIMEMultipart()\n",
        "    msg['From'] = fromaddr\n",
        "    msg['To']   = toaddr\n",
        "    msg['Subject'] = \"Arquivo de variação dos preços dos combustiveis do estado {0}\".format(lista_uf)\n",
        "    body = 'Olá tudo bem? \\nSegue em anexo o arquivo de Variação dos preços dos combustiveis'.format(lista_uf)\n",
        "    msg.attach(MIMEText(boidy, 'plain'))\n",
        "    filename = 'lista_[0].csv'.format(lista_uf)\n",
        "    attachment = open(\"C:\\\\Arquivo\\lita_[0}.csv\".format(lista_uf), 'rb')\n",
        "    p = MIMEBase('application', 'octet-stream')\n",
        "    p.set_payload((attachment).read())\n",
        "    encoders.encode_base64(p)\n",
        "    p.add_header('Content-Disposition', 'attachment; filename = %s' % filename)\n",
        "    msg.attach(p)\n",
        "    s = smtplib.SMTP('smtp@gmail.com', 587)\n",
        "    s.starttls()\n",
        "    s.login(fromaddr, 'xxxxxxxxxxxxxxxxxxxxx')\n",
        "    text = msg.as_string()\n",
        "    s.sendmail(fromaddr, toaddr, text)\n",
        "    s.quit()"
      ],
      "metadata": {
        "id": "5D3p4fL4Eokt"
      },
      "execution_count": null,
      "outputs": []
    }
  ]
}